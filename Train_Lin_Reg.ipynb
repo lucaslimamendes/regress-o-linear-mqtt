{
 "cells": [
  {
   "cell_type": "code",
   "execution_count": 1,
   "id": "32de393d",
   "metadata": {
    "scrolled": true
   },
   "outputs": [],
   "source": [
    "from sklearn.model_selection import train_test_split\n",
    "from sklearn.linear_model import LinearRegression\n",
    "from matplotlib import pyplot as plt\n",
    "import pandas as pd\n",
    "from paho.mqtt import client as mqtt_client\n",
    "from datetime import datetime\n",
    "import random\n",
    "%matplotlib inline"
   ]
  },
  {
   "cell_type": "code",
   "execution_count": 2,
   "id": "4dd49ba1",
   "metadata": {},
   "outputs": [],
   "source": [
    "broker = 'broker.hivemq.com'\n",
    "port = 1883\n",
    "client_id = f'n1-sd-hidroponia-{random.randint(0, 1000)}'\n",
    "topics = {\n",
    "    'n1_sd_hidro_ph_get_result': 'Solicitado calculo resultado do PH',\n",
    "    'n1_sd_hidro_ph_calculate_result': 'Calculado resultado do PH',\n",
    "}\n",
    "\n",
    "def on_connect(client, userdata, flags, rc):\n",
    "    if rc == 0:\n",
    "        print(\"Conectado ao MQTT Broker!\")\n",
    "    else:\n",
    "        print(\"Falha ao se conectar, código %d\\n\", rc)"
   ]
  },
  {
   "cell_type": "code",
   "execution_count": 3,
   "id": "859519d1",
   "metadata": {},
   "outputs": [],
   "source": [
    "client = mqtt_client.Client(client_id)\n",
    "client.on_connect = on_connect\n",
    "client.connect(broker, port)\n",
    "client.loop_start()"
   ]
  },
  {
   "cell_type": "code",
   "execution_count": 4,
   "id": "2d4e28e1",
   "metadata": {},
   "outputs": [],
   "source": [
    "def publish(topic, msg):\n",
    "    result = client.publish(topic, msg)\n",
    "    status = result[0]\n",
    "    if status == 0:\n",
    "        print(f\"Enviado `{msg}` para `{topics[topic]}`\")\n",
    "    else:\n",
    "        print(f\"Falha ao enviar mensagem para o tópico {topic}\")\n",
    "        \n",
    "def subscribe(topic):\n",
    "    def on_message(client, userdata, msg):\n",
    "        now = datetime.now().strftime(\"%d/%m/%Y %H:%M:%S\")\n",
    "        print(f\"Recebido `{msg.payload.decode()}` para `{topics[msg.topic]}` em `{now}`\")\n",
    "        \n",
    "        score = get_value(msg.payload.decode())\n",
    "        publish('n1_sd_hidro_ph_calculate_result', score)\n",
    "\n",
    "    client.subscribe(topic)\n",
    "    client.on_message = on_message"
   ]
  },
  {
   "cell_type": "code",
   "execution_count": 5,
   "id": "af68fb09",
   "metadata": {},
   "outputs": [
    {
     "name": "stdout",
     "output_type": "stream",
     "text": [
      "Conectado ao MQTT Broker!\n"
     ]
    }
   ],
   "source": [
    "subscribe('n1_sd_hidro_ph_get_result')"
   ]
  },
  {
   "cell_type": "code",
   "execution_count": 6,
   "id": "5ad4234d",
   "metadata": {},
   "outputs": [
    {
     "name": "stdout",
     "output_type": "stream",
     "text": [
      "       Temperature         PH\n",
      "count    14.000000  14.000000\n",
      "mean     18.285714  10.285714\n",
      "std      10.542431   3.891382\n",
      "min       5.000000   4.000000\n",
      "25%      10.250000   7.250000\n",
      "50%      16.000000  10.500000\n",
      "75%      21.750000  13.750000\n",
      "max      39.000000  16.000000\n",
      "intercept [5.0019802]\n",
      "coef [[0.30514851]]\n"
     ]
    },
    {
     "data": {
      "image/png": "[encoded data removed]",
      "text/plain": [
       "<Figure size 640x480 with 1 Axes>"
      ]
     },
     "metadata": {},
     "output_type": "display_data"
    },
    {
     "name": "stdout",
     "output_type": "stream",
     "text": [
      "Recebido `25` para `Solicitado calculo resultado do PH` em `15/10/2022 14:32:00`\n",
      "score [[12.63069307]]\n",
      "Enviado `12.630693069306933` para `Calculado resultado do PH`\n"
     ]
    }
   ],
   "source": [
    "df = pd.read_csv('data.csv')\n",
    "df.head()\n",
    "df.shape\n",
    "df.plot.scatter(x='Temperature', y='PH', title='Scatterplot of temperature and PH');\n",
    "print(df.describe())\n",
    "\n",
    "X = df['Temperature'].values.reshape(-1, 1)\n",
    "Y = df['PH'].values.reshape(-1, 1)\n",
    "X_train, X_test, y_train, y_test = train_test_split(X, Y, test_size = 0.2)\n",
    "\n",
    "regressor = LinearRegression()\n",
    "regressor.fit(X_train, y_train)\n",
    "print('intercept', regressor.intercept_)\n",
    "print('coef', regressor.coef_)\n",
    "    \n",
    "def get_value(temperature):\n",
    "    numTemp = float(temperature)\n",
    "    score = regressor.predict([[numTemp]])\n",
    "    print('score', score)\n",
    "    return score[0][0]"
   ]
  },
  {
   "cell_type": "code",
   "execution_count": null,
   "id": "42b2a4cc",
   "metadata": {},
   "outputs": [],
   "source": [
    "client.loop_stop()"
   ]
  }
 ],
 "metadata": {
  "kernelspec": {
   "display_name": "Python 3 (ipykernel)",
   "language": "python",
   "name": "python3"
  },
  "language_info": {
   "codemirror_mode": {
    "name": "ipython",
    "version": 3
   },
   "file_extension": ".py",
   "mimetype": "text/x-python",
   "name": "python",
   "nbconvert_exporter": "python",
   "pygments_lexer": "ipython3",
   "version": "3.10.0"
  }
 },
 "nbformat": 4,
 "nbformat_minor": 5
}
