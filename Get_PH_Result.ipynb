{
 "cells": [
  {
   "cell_type": "code",
   "execution_count": 1,
   "id": "066069ba",
   "metadata": {},
   "outputs": [],
   "source": [
    "from paho.mqtt import client as mqtt_client\n",
    "from datetime import datetime\n",
    "import random"
   ]
  },
  {
   "cell_type": "code",
   "execution_count": 2,
   "id": "f86a9669",
   "metadata": {},
   "outputs": [],
   "source": [
    "broker = 'broker.hivemq.com'\n",
    "port = 1883\n",
    "client_id = f'n1-sd-hidroponia-{random.randint(0, 1000)}'\n",
    "topics = {\n",
    "    'n1_sd_hidro_with_ph_get_temp': 'Solicitado valor de PH com base na temperatura',\n",
    "    'n1_sd_hidro_ph_get_result': 'Solicitado calculo resultado do PH',\n",
    "    'n1_sd_hidro_ph_calculate_result': 'Calculado resultado do PH',\n",
    "    'n1_sd_hidro_ph_return_result': 'Envia resultado do PH',\n",
    "}"
   ]
  },
  {
   "cell_type": "code",
   "execution_count": 3,
   "id": "2b152ff7",
   "metadata": {},
   "outputs": [],
   "source": [
    "def on_connect(client, userdata, flags, rc):\n",
    "    if rc == 0:\n",
    "        print(\"Conectado ao MQTT Broker!\")\n",
    "    else:\n",
    "        print(\"Falha ao se conectar, código %d\\n\", rc)"
   ]
  },
  {
   "cell_type": "code",
   "execution_count": 4,
   "id": "538b68b4",
   "metadata": {},
   "outputs": [
    {
     "name": "stdout",
     "output_type": "stream",
     "text": [
      "Conectado ao MQTT Broker!\n"
     ]
    }
   ],
   "source": [
    "client = mqtt_client.Client(client_id)\n",
    "client.on_connect = on_connect\n",
    "client.connect(broker, port)\n",
    "client.loop_start()"
   ]
  },
  {
   "cell_type": "code",
   "execution_count": 5,
   "id": "80f3fadf",
   "metadata": {},
   "outputs": [],
   "source": [
    "def publish(topic, msg):\n",
    "    result = client.publish(topic, msg)\n",
    "    status = result[0]\n",
    "    if status == 0:\n",
    "        print(f\"Enviado `{msg}` para `{topics[topic]}`\")\n",
    "    else:\n",
    "        print(f\"Falha ao enviar mensagem para o tópico {topic}\")"
   ]
  },
  {
   "cell_type": "code",
   "execution_count": 6,
   "id": "60b532b9",
   "metadata": {},
   "outputs": [],
   "source": [
    "def subscribe(topic):\n",
    "    def on_message(client, userdata, msg):\n",
    "        now = datetime.now().strftime(\"%d/%m/%Y %H:%M:%S\")\n",
    "        print(f\"Recebido `{msg.payload.decode()}` para `{topics[msg.topic]}` em `{now}`\")\n",
    "        \n",
    "        if msg.topic == 'n1_sd_hidro_with_ph_get_temp':\n",
    "            publish('n1_sd_hidro_ph_get_result', msg.payload.decode())\n",
    "        if msg.topic == 'n1_sd_hidro_ph_calculate_result':\n",
    "            publish('n1_sd_hidro_ph_return_result', msg.payload.decode())\n",
    "\n",
    "    client.subscribe(topic)\n",
    "    client.on_message = on_message"
   ]
  },
  {
   "cell_type": "code",
   "execution_count": 7,
   "id": "7331ff42",
   "metadata": {},
   "outputs": [
    {
     "name": "stdout",
     "output_type": "stream",
     "text": [
      "Recebido `25` para `Solicitado valor de PH com base na temperatura` em `15/10/2022 14:32:00`\n",
      "Enviado `25` para `Solicitado calculo resultado do PH`\n",
      "Recebido `12.630693069306933` para `Calculado resultado do PH` em `15/10/2022 14:32:00`\n",
      "Enviado `12.630693069306933` para `Envia resultado do PH`\n"
     ]
    }
   ],
   "source": [
    "subscribe('n1_sd_hidro_with_ph_get_temp')\n",
    "subscribe('n1_sd_hidro_ph_calculate_result')"
   ]
  },
  {
   "cell_type": "code",
   "execution_count": null,
   "id": "fa73cba6",
   "metadata": {},
   "outputs": [],
   "source": [
    "client.loop_stop()"
   ]
  }
 ],
 "metadata": {
  "kernelspec": {
   "display_name": "Python 3 (ipykernel)",
   "language": "python",
   "name": "python3"
  },
  "language_info": {
   "codemirror_mode": {
    "name": "ipython",
    "version": 3
   },
   "file_extension": ".py",
   "mimetype": "text/x-python",
   "name": "python",
   "nbconvert_exporter": "python",
   "pygments_lexer": "ipython3",
   "version": "3.10.0"
  }
 },
 "nbformat": 4,
 "nbformat_minor": 5
}
