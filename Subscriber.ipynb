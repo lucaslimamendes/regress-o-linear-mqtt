{
 "cells": [
  {
   "cell_type": "code",
   "execution_count": 1,
   "id": "e644194d",
   "metadata": {},
   "outputs": [],
   "source": [
    "from paho.mqtt import client as mqtt_client\n",
    "from datetime import datetime\n",
    "import pandas as pd\n",
    "import os.path\n",
    "import random"
   ]
  },
  {
   "cell_type": "code",
   "execution_count": 2,
   "id": "5f27b2b3",
   "metadata": {},
   "outputs": [],
   "source": [
    "broker = 'broker.hivemq.com'\n",
    "port = 1883\n",
    "client_id = f'n1-sd-hidroponia-{random.randint(0, 1000)}'\n",
    "topics = {\n",
    "    'n1_sd_hidro_ph_temp_data': 'Temperatura e PH da agua (Dados)',\n",
    "}\n",
    "data = {\n",
    "    'Type': [],\n",
    "    'Temperature': [],\n",
    "    'PH': [],\n",
    "    'Date': [],\n",
    "}"
   ]
  },
  {
   "cell_type": "code",
   "execution_count": 3,
   "id": "2456eb59",
   "metadata": {},
   "outputs": [],
   "source": [
    "def on_connect(client, userdata, flags, rc):\n",
    "    if rc == 0:\n",
    "        print(\"Conectado ao MQTT Broker!\")\n",
    "    else:\n",
    "        print(\"Falha ao se conectar, código %d\\n\", rc)"
   ]
  },
  {
   "cell_type": "code",
   "execution_count": 4,
   "id": "2777d3da",
   "metadata": {},
   "outputs": [
    {
     "name": "stdout",
     "output_type": "stream",
     "text": [
      "Conectado ao MQTT Broker!\n"
     ]
    }
   ],
   "source": [
    "client = mqtt_client.Client(client_id)\n",
    "client.on_connect = on_connect\n",
    "client.connect(broker, port)\n",
    "client.loop_start()"
   ]
  },
  {
   "cell_type": "code",
   "execution_count": 5,
   "id": "48c75491",
   "metadata": {},
   "outputs": [],
   "source": [
    "def subscribe(topic):\n",
    "    def on_message(client, userdata, msg):\n",
    "        print(f\"Recebido `{msg.payload.decode()}` para `{topics[msg.topic]}`\")\n",
    "        now = datetime.now().strftime(\"%d/%m/%Y %H:%M:%S\")\n",
    "        msgSplit = msg.payload.decode().split(',')\n",
    "        file_exists = os.path.exists('data.csv')\n",
    "        \n",
    "        if file_exists:\n",
    "            appendDt = [[ msg.topic, msgSplit[0], msgSplit[1], now ]]\n",
    "        else:\n",
    "            data['Type'].append(msg.topic)\n",
    "            data['Temperature'].append(msgSplit[0])\n",
    "            data['PH'].append(msgSplit[1])\n",
    "            data['Date'].append(now)\n",
    "            appendDt = data\n",
    "        \n",
    "        df = pd.DataFrame(appendDt)\n",
    "        df.to_csv('data.csv', mode='a', index=False, header=not file_exists)\n",
    "        \n",
    "\n",
    "    client.subscribe(topic)\n",
    "    client.on_message = on_message"
   ]
  },
  {
   "cell_type": "code",
   "execution_count": 6,
   "id": "d0c26008",
   "metadata": {},
   "outputs": [
    {
     "name": "stdout",
     "output_type": "stream",
     "text": [
      "Recebido `10,7` para `Temperatura e PH da agua (Dados)`\n",
      "Recebido `5,4` para `Temperatura e PH da agua (Dados)`\n",
      "Recebido `38,14` para `Temperatura e PH da agua (Dados)`\n",
      "Recebido `22,10` para `Temperatura e PH da agua (Dados)`\n",
      "Recebido `12,9` para `Temperatura e PH da agua (Dados)`\n",
      "Recebido `18,11` para `Temperatura e PH da agua (Dados)`\n",
      "Recebido `28,13` para `Temperatura e PH da agua (Dados)`\n",
      "Recebido `39,15` para `Temperatura e PH da agua (Dados)`\n",
      "Recebido `10,6` para `Temperatura e PH da agua (Dados)`\n",
      "Recebido `9,5` para `Temperatura e PH da agua (Dados)`\n",
      "Recebido `14,12` para `Temperatura e PH da agua (Dados)`\n",
      "Recebido `19,14` para `Temperatura e PH da agua (Dados)`\n",
      "Recebido `21,16` para `Temperatura e PH da agua (Dados)`\n",
      "Recebido `11,8` para `Temperatura e PH da agua (Dados)`\n"
     ]
    }
   ],
   "source": [
    "subscribe('n1_sd_hidro_ph_temp_data')"
   ]
  },
  {
   "cell_type": "code",
   "execution_count": null,
   "id": "1463f3ff",
   "metadata": {},
   "outputs": [],
   "source": [
    "client.loop_stop()"
   ]
  }
 ],
 "metadata": {
  "kernelspec": {
   "display_name": "Python 3 (ipykernel)",
   "language": "python",
   "name": "python3"
  },
  "language_info": {
   "codemirror_mode": {
    "name": "ipython",
    "version": 3
   },
   "file_extension": ".py",
   "mimetype": "text/x-python",
   "name": "python",
   "nbconvert_exporter": "python",
   "pygments_lexer": "ipython3",
   "version": "3.10.0"
  }
 },
 "nbformat": 4,
 "nbformat_minor": 5
}
