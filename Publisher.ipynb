{
 "cells": [
  {
   "cell_type": "code",
   "execution_count": 1,
   "id": "a4278cce",
   "metadata": {},
   "outputs": [],
   "source": [
    "from paho.mqtt import client as mqtt_client\n",
    "from datetime import datetime\n",
    "import random"
   ]
  },
  {
   "cell_type": "code",
   "execution_count": 2,
   "id": "c5d6df7a",
   "metadata": {},
   "outputs": [],
   "source": [
    "broker = 'broker.hivemq.com'\n",
    "port = 1883\n",
    "client_id = f'n1-sd-hidroponia-{random.randint(0, 1000)}'\n",
    "topics = {\n",
    "    'n1_sd_hidro_ph_temp_data': 'Temperatura e PH da agua (Dados)',\n",
    "}"
   ]
  },
  {
   "cell_type": "code",
   "execution_count": 3,
   "id": "011bbe0d",
   "metadata": {},
   "outputs": [],
   "source": [
    "def on_connect(client, userdata, flags, rc):\n",
    "    if rc == 0:\n",
    "        print(\"Conectado ao MQTT Broker!\")\n",
    "    else:\n",
    "        print(\"Falha ao se conectar, código %d\\n\", rc)"
   ]
  },
  {
   "cell_type": "code",
   "execution_count": 4,
   "id": "681346a1",
   "metadata": {},
   "outputs": [],
   "source": [
    "client = mqtt_client.Client(client_id)\n",
    "client.on_connect = on_connect\n",
    "client.connect(broker, port)\n",
    "client.loop_start()"
   ]
  },
  {
   "cell_type": "code",
   "execution_count": 5,
   "id": "01e3a3de",
   "metadata": {},
   "outputs": [
    {
     "name": "stdout",
     "output_type": "stream",
     "text": [
      "Conectado ao MQTT Broker!\n"
     ]
    }
   ],
   "source": [
    "def publish(topic, msg):\n",
    "    result = client.publish(topic, msg)\n",
    "    status = result[0]\n",
    "    if status == 0:\n",
    "        print(f\"Enviado `{msg}` para `{topics[topic]}`\")\n",
    "    else:\n",
    "        print(f\"Falha ao enviar mensagem para o tópico {topic}\")"
   ]
  },
  {
   "cell_type": "code",
   "execution_count": 6,
   "id": "331d1c35",
   "metadata": {},
   "outputs": [
    {
     "name": "stdout",
     "output_type": "stream",
     "text": [
      "Enviado `10,7` para `Temperatura e PH da agua (Dados)`\n",
      "Enviado `5,4` para `Temperatura e PH da agua (Dados)`\n",
      "Enviado `38,14` para `Temperatura e PH da agua (Dados)`\n",
      "Enviado `22,10` para `Temperatura e PH da agua (Dados)`\n",
      "Enviado `12,9` para `Temperatura e PH da agua (Dados)`\n",
      "Enviado `18,11` para `Temperatura e PH da agua (Dados)`\n",
      "Enviado `28,13` para `Temperatura e PH da agua (Dados)`\n",
      "Enviado `39,15` para `Temperatura e PH da agua (Dados)`\n",
      "Enviado `10,6` para `Temperatura e PH da agua (Dados)`\n",
      "Enviado `9,5` para `Temperatura e PH da agua (Dados)`\n",
      "Enviado `14,12` para `Temperatura e PH da agua (Dados)`\n",
      "Enviado `19,14` para `Temperatura e PH da agua (Dados)`\n",
      "Enviado `21,16` para `Temperatura e PH da agua (Dados)`\n",
      "Enviado `11,8` para `Temperatura e PH da agua (Dados)`\n"
     ]
    }
   ],
   "source": [
    "publish('n1_sd_hidro_ph_temp_data', '10,7') #(X,Y)\n",
    "# gerar dados sinteticos, envio do Temperatura (X) e PH (Y)\n",
    "\n",
    "publish('n1_sd_hidro_ph_temp_data', '5,4')\n",
    "publish('n1_sd_hidro_ph_temp_data', '38,14')\n",
    "publish('n1_sd_hidro_ph_temp_data', '22,10')\n",
    "publish('n1_sd_hidro_ph_temp_data', '12,9')\n",
    "publish('n1_sd_hidro_ph_temp_data', '18,11')\n",
    "publish('n1_sd_hidro_ph_temp_data', '28,13')\n",
    "publish('n1_sd_hidro_ph_temp_data', '39,15')\n",
    "publish('n1_sd_hidro_ph_temp_data', '10,6')\n",
    "publish('n1_sd_hidro_ph_temp_data', '9,5')\n",
    "publish('n1_sd_hidro_ph_temp_data', '14,12')\n",
    "publish('n1_sd_hidro_ph_temp_data', '19,14')\n",
    "publish('n1_sd_hidro_ph_temp_data', '21,16')\n",
    "publish('n1_sd_hidro_ph_temp_data', '11,8')"
   ]
  },
  {
   "cell_type": "code",
   "execution_count": null,
   "id": "f54132e7",
   "metadata": {},
   "outputs": [],
   "source": [
    "client.loop_stop()"
   ]
  }
 ],
 "metadata": {
  "kernelspec": {
   "display_name": "Python 3 (ipykernel)",
   "language": "python",
   "name": "python3"
  },
  "language_info": {
   "codemirror_mode": {
    "name": "ipython",
    "version": 3
   },
   "file_extension": ".py",
   "mimetype": "text/x-python",
   "name": "python",
   "nbconvert_exporter": "python",
   "pygments_lexer": "ipython3",
   "version": "3.10.0"
  }
 },
 "nbformat": 4,
 "nbformat_minor": 5
}
